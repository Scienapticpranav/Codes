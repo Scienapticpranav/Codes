{
 "cells": [
  {
   "cell_type": "code",
   "execution_count": 1,
   "metadata": {},
   "outputs": [],
   "source": [
    "import os\n",
    "import numpy as np\n",
    "import pandas as pd\n",
    "from datetime import datetime\n",
    "import statsmodels\n",
    "import dateutil     "
   ]
  },
  {
   "cell_type": "code",
   "execution_count": 27,
   "metadata": {},
   "outputs": [],
   "source": [
    "############  OD Data as a BASE Data\n",
    "CD_ODDATA_LOT1 = pd.read_csv(\"/data_tvsc/APR10_DATA/OD_DATA.CSV\")\n",
    "CD_ODDATA_LOT1 = CD_ODDATA_LOT1.reset_index(drop=True)"
   ]
  },
  {
   "cell_type": "code",
   "execution_count": 28,
   "metadata": {},
   "outputs": [
    {
     "data": {
      "text/plain": [
       "Index(['AGMTNO', 'INSTALMENT_DATE', 'CUTDATE', 'MOB', 'STATUS', 'STATUS_DATE',\n",
       "       'CURRENT_DEMAND_MODE', 'OPENING_BUCKET', 'OPENING_PRINCIPAL',\n",
       "       'OPENING_INTREST', 'OPENING_OVERDUE', 'CURRENT_DEMAND',\n",
       "       'CURRENT_DEMAND_PRINCIPAL', 'CURRENT_DEMAND_INTREST',\n",
       "       'ADJUSTMENT_OVERDUE_PRINCIPAL', 'ADJUSTMENT_OVERDUE_INTREST',\n",
       "       'ADJUSTMENT_OVERDUE', 'ADJUSTMENT_DEMAND_PRINCIPAL',\n",
       "       'ADJUSTMENT_DEMAND_INTREST', 'ADJUSTMENT_DEMAND', 'OPENING_EXCESS',\n",
       "       'OVERALL_COLLECTION', 'CLOSING_PRINCIPAL', 'CLOSING_INTREST',\n",
       "       'CLOSING_OVERDUE', 'CLOSING_BUCKET', 'FUTURE_PRINCIPAL',\n",
       "       'FUTURE_INTREST', 'NON_STARTER', 'TENOR_COMPLETED', 'OVERDUE_CATEGORY',\n",
       "       'CLOSING_EXCESS', 'SUB_STATUS', 'OPENING_STATUS', 'SEIZURE_DATE',\n",
       "       'SEIZURE_MOB', 'DPD', 'COLLECTION_CATG', 'ALLOCATION_CODE',\n",
       "       'ALLOCATION_TO'],\n",
       "      dtype='object')"
      ]
     },
     "execution_count": 28,
     "metadata": {},
     "output_type": "execute_result"
    }
   ],
   "source": [
    "CD_ODDATA_LOT1.columns"
   ]
  },
  {
   "cell_type": "code",
   "execution_count": 29,
   "metadata": {},
   "outputs": [],
   "source": [
    "pd.set_option('display.max_columns', 500)"
   ]
  },
  {
   "cell_type": "code",
   "execution_count": 30,
   "metadata": {},
   "outputs": [
    {
     "name": "stdout",
     "output_type": "stream",
     "text": [
      "(1164914, 40)\n",
      "185182\n",
      "------------------------------\n"
     ]
    }
   ],
   "source": [
    "print(CD_ODDATA_LOT1.shape)\n",
    "print(CD_ODDATA_LOT1.AGMTNO.nunique())\n",
    "print('------------------------------')\n",
    "# print(CD_ODDATA_LOT2.shape)\n",
    "# print(CD_ODDATA_LOT2.AGMTNO.nunique())"
   ]
  },
  {
   "cell_type": "code",
   "execution_count": 31,
   "metadata": {},
   "outputs": [],
   "source": [
    "# OD_DATA = pd.concat([CD_ODDATA_LOT1,CD_ODDATA_LOT2],axis=0)\n",
    "# print(OD_DATA.shape)\n",
    "OD_DATA = CD_ODDATA_LOT1"
   ]
  },
  {
   "cell_type": "code",
   "execution_count": 32,
   "metadata": {},
   "outputs": [
    {
     "data": {
      "text/html": [
       "<div>\n",
       "<style scoped>\n",
       "    .dataframe tbody tr th:only-of-type {\n",
       "        vertical-align: middle;\n",
       "    }\n",
       "\n",
       "    .dataframe tbody tr th {\n",
       "        vertical-align: top;\n",
       "    }\n",
       "\n",
       "    .dataframe thead th {\n",
       "        text-align: right;\n",
       "    }\n",
       "</style>\n",
       "<table border=\"1\" class=\"dataframe\">\n",
       "  <thead>\n",
       "    <tr style=\"text-align: right;\">\n",
       "      <th></th>\n",
       "      <th>AGMTNO</th>\n",
       "      <th>INSTALMENT_DATE</th>\n",
       "      <th>CUTDATE</th>\n",
       "      <th>MOB</th>\n",
       "      <th>STATUS</th>\n",
       "      <th>STATUS_DATE</th>\n",
       "      <th>CURRENT_DEMAND_MODE</th>\n",
       "      <th>OPENING_BUCKET</th>\n",
       "      <th>OPENING_PRINCIPAL</th>\n",
       "      <th>OPENING_INTREST</th>\n",
       "      <th>OPENING_OVERDUE</th>\n",
       "      <th>CURRENT_DEMAND</th>\n",
       "      <th>CURRENT_DEMAND_PRINCIPAL</th>\n",
       "      <th>CURRENT_DEMAND_INTREST</th>\n",
       "      <th>ADJUSTMENT_OVERDUE_PRINCIPAL</th>\n",
       "      <th>ADJUSTMENT_OVERDUE_INTREST</th>\n",
       "      <th>ADJUSTMENT_OVERDUE</th>\n",
       "      <th>ADJUSTMENT_DEMAND_PRINCIPAL</th>\n",
       "      <th>ADJUSTMENT_DEMAND_INTREST</th>\n",
       "      <th>ADJUSTMENT_DEMAND</th>\n",
       "      <th>OPENING_EXCESS</th>\n",
       "      <th>OVERALL_COLLECTION</th>\n",
       "      <th>CLOSING_PRINCIPAL</th>\n",
       "      <th>CLOSING_INTREST</th>\n",
       "      <th>CLOSING_OVERDUE</th>\n",
       "      <th>CLOSING_BUCKET</th>\n",
       "      <th>FUTURE_PRINCIPAL</th>\n",
       "      <th>FUTURE_INTREST</th>\n",
       "      <th>NON_STARTER</th>\n",
       "      <th>TENOR_COMPLETED</th>\n",
       "      <th>OVERDUE_CATEGORY</th>\n",
       "      <th>CLOSING_EXCESS</th>\n",
       "      <th>SUB_STATUS</th>\n",
       "      <th>OPENING_STATUS</th>\n",
       "      <th>SEIZURE_DATE</th>\n",
       "      <th>SEIZURE_MOB</th>\n",
       "      <th>DPD</th>\n",
       "      <th>COLLECTION_CATG</th>\n",
       "      <th>ALLOCATION_CODE</th>\n",
       "      <th>ALLOCATION_TO</th>\n",
       "    </tr>\n",
       "  </thead>\n",
       "  <tbody>\n",
       "    <tr>\n",
       "      <th>0</th>\n",
       "      <td>PY3001CD0000934</td>\n",
       "      <td>2018-04-07 00:00:00</td>\n",
       "      <td>2018-04-30 00:00:00</td>\n",
       "      <td>1</td>\n",
       "      <td>L</td>\n",
       "      <td>NaN</td>\n",
       "      <td>DRE</td>\n",
       "      <td>0</td>\n",
       "      <td>0.0</td>\n",
       "      <td>0.0</td>\n",
       "      <td>0.0</td>\n",
       "      <td>1317.0</td>\n",
       "      <td>1315.21</td>\n",
       "      <td>1.79</td>\n",
       "      <td>0.0</td>\n",
       "      <td>0.0</td>\n",
       "      <td>0.0</td>\n",
       "      <td>1315.21</td>\n",
       "      <td>1.79</td>\n",
       "      <td>1317.0</td>\n",
       "      <td>0.0</td>\n",
       "      <td>1317.0</td>\n",
       "      <td>0.0</td>\n",
       "      <td>0.0</td>\n",
       "      <td>0.0</td>\n",
       "      <td>0</td>\n",
       "      <td>22373.79</td>\n",
       "      <td>15.21</td>\n",
       "      <td>N</td>\n",
       "      <td>N</td>\n",
       "      <td></td>\n",
       "      <td>0.0</td>\n",
       "      <td>NaN</td>\n",
       "      <td>L</td>\n",
       "      <td>NaN</td>\n",
       "      <td>NaN</td>\n",
       "      <td>0</td>\n",
       "      <td>DEMAND</td>\n",
       "      <td>NaN</td>\n",
       "      <td>UN ALLOCATED</td>\n",
       "    </tr>\n",
       "    <tr>\n",
       "      <th>1</th>\n",
       "      <td>PY3001CD0000921</td>\n",
       "      <td>2018-04-07 00:00:00</td>\n",
       "      <td>2018-04-30 00:00:00</td>\n",
       "      <td>1</td>\n",
       "      <td>L</td>\n",
       "      <td>NaN</td>\n",
       "      <td>DRE</td>\n",
       "      <td>0</td>\n",
       "      <td>0.0</td>\n",
       "      <td>0.0</td>\n",
       "      <td>0.0</td>\n",
       "      <td>2870.0</td>\n",
       "      <td>2869.71</td>\n",
       "      <td>0.29</td>\n",
       "      <td>0.0</td>\n",
       "      <td>0.0</td>\n",
       "      <td>0.0</td>\n",
       "      <td>2869.71</td>\n",
       "      <td>0.29</td>\n",
       "      <td>2870.0</td>\n",
       "      <td>0.0</td>\n",
       "      <td>2870.0</td>\n",
       "      <td>0.0</td>\n",
       "      <td>0.0</td>\n",
       "      <td>0.0</td>\n",
       "      <td>0</td>\n",
       "      <td>25828.74</td>\n",
       "      <td>1.26</td>\n",
       "      <td>N</td>\n",
       "      <td>N</td>\n",
       "      <td></td>\n",
       "      <td>0.0</td>\n",
       "      <td>NaN</td>\n",
       "      <td>L</td>\n",
       "      <td>NaN</td>\n",
       "      <td>NaN</td>\n",
       "      <td>0</td>\n",
       "      <td>DEMAND</td>\n",
       "      <td>NaN</td>\n",
       "      <td>UN ALLOCATED</td>\n",
       "    </tr>\n",
       "    <tr>\n",
       "      <th>2</th>\n",
       "      <td>TN3006CD0000949</td>\n",
       "      <td>2018-04-07 00:00:00</td>\n",
       "      <td>2018-04-30 00:00:00</td>\n",
       "      <td>3</td>\n",
       "      <td>L</td>\n",
       "      <td>NaN</td>\n",
       "      <td>ECS</td>\n",
       "      <td>0</td>\n",
       "      <td>0.0</td>\n",
       "      <td>0.0</td>\n",
       "      <td>0.0</td>\n",
       "      <td>1350.0</td>\n",
       "      <td>1349.89</td>\n",
       "      <td>0.11</td>\n",
       "      <td>0.0</td>\n",
       "      <td>0.0</td>\n",
       "      <td>0.0</td>\n",
       "      <td>1349.89</td>\n",
       "      <td>0.11</td>\n",
       "      <td>1350.0</td>\n",
       "      <td>0.0</td>\n",
       "      <td>1350.0</td>\n",
       "      <td>0.0</td>\n",
       "      <td>0.0</td>\n",
       "      <td>0.0</td>\n",
       "      <td>0</td>\n",
       "      <td>9449.63</td>\n",
       "      <td>0.37</td>\n",
       "      <td></td>\n",
       "      <td>N</td>\n",
       "      <td></td>\n",
       "      <td>0.0</td>\n",
       "      <td>NaN</td>\n",
       "      <td>L</td>\n",
       "      <td>NaN</td>\n",
       "      <td>NaN</td>\n",
       "      <td>0</td>\n",
       "      <td>NaN</td>\n",
       "      <td>NaN</td>\n",
       "      <td>NaN</td>\n",
       "    </tr>\n",
       "    <tr>\n",
       "      <th>3</th>\n",
       "      <td>TN3006CD0000951</td>\n",
       "      <td>2018-04-07 00:00:00</td>\n",
       "      <td>2018-04-30 00:00:00</td>\n",
       "      <td>3</td>\n",
       "      <td>L</td>\n",
       "      <td>NaN</td>\n",
       "      <td>ECS</td>\n",
       "      <td>0</td>\n",
       "      <td>0.0</td>\n",
       "      <td>0.0</td>\n",
       "      <td>0.0</td>\n",
       "      <td>2390.0</td>\n",
       "      <td>2389.81</td>\n",
       "      <td>0.19</td>\n",
       "      <td>0.0</td>\n",
       "      <td>0.0</td>\n",
       "      <td>0.0</td>\n",
       "      <td>2389.81</td>\n",
       "      <td>0.19</td>\n",
       "      <td>2390.0</td>\n",
       "      <td>0.0</td>\n",
       "      <td>2390.0</td>\n",
       "      <td>0.0</td>\n",
       "      <td>0.0</td>\n",
       "      <td>0.0</td>\n",
       "      <td>0</td>\n",
       "      <td>16729.33</td>\n",
       "      <td>0.67</td>\n",
       "      <td></td>\n",
       "      <td>N</td>\n",
       "      <td></td>\n",
       "      <td>0.0</td>\n",
       "      <td>NaN</td>\n",
       "      <td>L</td>\n",
       "      <td>NaN</td>\n",
       "      <td>NaN</td>\n",
       "      <td>0</td>\n",
       "      <td>NaN</td>\n",
       "      <td>NaN</td>\n",
       "      <td>NaN</td>\n",
       "    </tr>\n",
       "    <tr>\n",
       "      <th>4</th>\n",
       "      <td>TN3006CD0000439</td>\n",
       "      <td>2018-04-07 00:00:00</td>\n",
       "      <td>2018-04-30 00:00:00</td>\n",
       "      <td>4</td>\n",
       "      <td>L</td>\n",
       "      <td>NaN</td>\n",
       "      <td>ECS</td>\n",
       "      <td>0</td>\n",
       "      <td>0.0</td>\n",
       "      <td>0.0</td>\n",
       "      <td>0.0</td>\n",
       "      <td>1840.0</td>\n",
       "      <td>1839.87</td>\n",
       "      <td>0.13</td>\n",
       "      <td>0.0</td>\n",
       "      <td>0.0</td>\n",
       "      <td>0.0</td>\n",
       "      <td>1839.87</td>\n",
       "      <td>0.13</td>\n",
       "      <td>1840.0</td>\n",
       "      <td>0.0</td>\n",
       "      <td>1840.0</td>\n",
       "      <td>0.0</td>\n",
       "      <td>0.0</td>\n",
       "      <td>0.0</td>\n",
       "      <td>0</td>\n",
       "      <td>11039.61</td>\n",
       "      <td>0.39</td>\n",
       "      <td></td>\n",
       "      <td>N</td>\n",
       "      <td></td>\n",
       "      <td>0.0</td>\n",
       "      <td>NaN</td>\n",
       "      <td>L</td>\n",
       "      <td>NaN</td>\n",
       "      <td>NaN</td>\n",
       "      <td>0</td>\n",
       "      <td>NaN</td>\n",
       "      <td>NaN</td>\n",
       "      <td>NaN</td>\n",
       "    </tr>\n",
       "  </tbody>\n",
       "</table>\n",
       "</div>"
      ],
      "text/plain": [
       "            AGMTNO      INSTALMENT_DATE              CUTDATE  MOB STATUS  \\\n",
       "0  PY3001CD0000934  2018-04-07 00:00:00  2018-04-30 00:00:00    1      L   \n",
       "1  PY3001CD0000921  2018-04-07 00:00:00  2018-04-30 00:00:00    1      L   \n",
       "2  TN3006CD0000949  2018-04-07 00:00:00  2018-04-30 00:00:00    3      L   \n",
       "3  TN3006CD0000951  2018-04-07 00:00:00  2018-04-30 00:00:00    3      L   \n",
       "4  TN3006CD0000439  2018-04-07 00:00:00  2018-04-30 00:00:00    4      L   \n",
       "\n",
       "  STATUS_DATE CURRENT_DEMAND_MODE  OPENING_BUCKET  OPENING_PRINCIPAL  \\\n",
       "0         NaN                 DRE               0                0.0   \n",
       "1         NaN                 DRE               0                0.0   \n",
       "2         NaN                 ECS               0                0.0   \n",
       "3         NaN                 ECS               0                0.0   \n",
       "4         NaN                 ECS               0                0.0   \n",
       "\n",
       "   OPENING_INTREST  OPENING_OVERDUE  CURRENT_DEMAND  CURRENT_DEMAND_PRINCIPAL  \\\n",
       "0              0.0              0.0          1317.0                   1315.21   \n",
       "1              0.0              0.0          2870.0                   2869.71   \n",
       "2              0.0              0.0          1350.0                   1349.89   \n",
       "3              0.0              0.0          2390.0                   2389.81   \n",
       "4              0.0              0.0          1840.0                   1839.87   \n",
       "\n",
       "   CURRENT_DEMAND_INTREST  ADJUSTMENT_OVERDUE_PRINCIPAL  \\\n",
       "0                    1.79                           0.0   \n",
       "1                    0.29                           0.0   \n",
       "2                    0.11                           0.0   \n",
       "3                    0.19                           0.0   \n",
       "4                    0.13                           0.0   \n",
       "\n",
       "   ADJUSTMENT_OVERDUE_INTREST  ADJUSTMENT_OVERDUE  \\\n",
       "0                         0.0                 0.0   \n",
       "1                         0.0                 0.0   \n",
       "2                         0.0                 0.0   \n",
       "3                         0.0                 0.0   \n",
       "4                         0.0                 0.0   \n",
       "\n",
       "   ADJUSTMENT_DEMAND_PRINCIPAL  ADJUSTMENT_DEMAND_INTREST  ADJUSTMENT_DEMAND  \\\n",
       "0                      1315.21                       1.79             1317.0   \n",
       "1                      2869.71                       0.29             2870.0   \n",
       "2                      1349.89                       0.11             1350.0   \n",
       "3                      2389.81                       0.19             2390.0   \n",
       "4                      1839.87                       0.13             1840.0   \n",
       "\n",
       "   OPENING_EXCESS  OVERALL_COLLECTION  CLOSING_PRINCIPAL  CLOSING_INTREST  \\\n",
       "0             0.0              1317.0                0.0              0.0   \n",
       "1             0.0              2870.0                0.0              0.0   \n",
       "2             0.0              1350.0                0.0              0.0   \n",
       "3             0.0              2390.0                0.0              0.0   \n",
       "4             0.0              1840.0                0.0              0.0   \n",
       "\n",
       "   CLOSING_OVERDUE  CLOSING_BUCKET  FUTURE_PRINCIPAL  FUTURE_INTREST  \\\n",
       "0              0.0               0          22373.79           15.21   \n",
       "1              0.0               0          25828.74            1.26   \n",
       "2              0.0               0           9449.63            0.37   \n",
       "3              0.0               0          16729.33            0.67   \n",
       "4              0.0               0          11039.61            0.39   \n",
       "\n",
       "  NON_STARTER TENOR_COMPLETED OVERDUE_CATEGORY  CLOSING_EXCESS SUB_STATUS  \\\n",
       "0           N               N                              0.0        NaN   \n",
       "1           N               N                              0.0        NaN   \n",
       "2                           N                              0.0        NaN   \n",
       "3                           N                              0.0        NaN   \n",
       "4                           N                              0.0        NaN   \n",
       "\n",
       "  OPENING_STATUS  SEIZURE_DATE  SEIZURE_MOB  DPD COLLECTION_CATG  \\\n",
       "0              L           NaN          NaN    0          DEMAND   \n",
       "1              L           NaN          NaN    0          DEMAND   \n",
       "2              L           NaN          NaN    0             NaN   \n",
       "3              L           NaN          NaN    0             NaN   \n",
       "4              L           NaN          NaN    0             NaN   \n",
       "\n",
       "   ALLOCATION_CODE ALLOCATION_TO  \n",
       "0              NaN  UN ALLOCATED  \n",
       "1              NaN  UN ALLOCATED  \n",
       "2              NaN           NaN  \n",
       "3              NaN           NaN  \n",
       "4              NaN           NaN  "
      ]
     },
     "execution_count": 32,
     "metadata": {},
     "output_type": "execute_result"
    }
   ],
   "source": [
    "OD_DATA.head(5)"
   ]
  },
  {
   "cell_type": "code",
   "execution_count": 33,
   "metadata": {},
   "outputs": [],
   "source": [
    "OD_DATA=pd.DataFrame(OD_DATA[['AGMTNO','INSTALMENT_DATE','CUTDATE', 'DPD','MOB','TENOR_COMPLETED']])"
   ]
  },
  {
   "cell_type": "code",
   "execution_count": 34,
   "metadata": {},
   "outputs": [],
   "source": [
    "OD_DATA['AGMTNO'] = OD_DATA['AGMTNO'].astype(str).apply(lambda x:  x[2:])\n",
    "OD_DATA = OD_DATA.rename(columns={'AGMTNO': 'PROSPECTID'})"
   ]
  },
  {
   "cell_type": "code",
   "execution_count": 35,
   "metadata": {},
   "outputs": [],
   "source": [
    "OD_DATA['CUTDATE']=pd.to_datetime(OD_DATA['CUTDATE'])"
   ]
  },
  {
   "cell_type": "code",
   "execution_count": 36,
   "metadata": {},
   "outputs": [],
   "source": [
    "OD_DATA['INSTALMENT_DATE']=pd.to_datetime(OD_DATA['INSTALMENT_DATE'])"
   ]
  },
  {
   "cell_type": "code",
   "execution_count": 37,
   "metadata": {},
   "outputs": [
    {
     "data": {
      "text/html": [
       "<div>\n",
       "<style scoped>\n",
       "    .dataframe tbody tr th:only-of-type {\n",
       "        vertical-align: middle;\n",
       "    }\n",
       "\n",
       "    .dataframe tbody tr th {\n",
       "        vertical-align: top;\n",
       "    }\n",
       "\n",
       "    .dataframe thead th {\n",
       "        text-align: right;\n",
       "    }\n",
       "</style>\n",
       "<table border=\"1\" class=\"dataframe\">\n",
       "  <thead>\n",
       "    <tr style=\"text-align: right;\">\n",
       "      <th></th>\n",
       "      <th>PROSPECTID</th>\n",
       "      <th>INSTALMENT_DATE</th>\n",
       "      <th>CUTDATE</th>\n",
       "      <th>DPD</th>\n",
       "      <th>MOB</th>\n",
       "      <th>TENOR_COMPLETED</th>\n",
       "    </tr>\n",
       "  </thead>\n",
       "  <tbody>\n",
       "    <tr>\n",
       "      <th>0</th>\n",
       "      <td>3001CD0000934</td>\n",
       "      <td>2018-04-07</td>\n",
       "      <td>2018-04-30</td>\n",
       "      <td>0</td>\n",
       "      <td>1</td>\n",
       "      <td>N</td>\n",
       "    </tr>\n",
       "    <tr>\n",
       "      <th>1</th>\n",
       "      <td>3001CD0000921</td>\n",
       "      <td>2018-04-07</td>\n",
       "      <td>2018-04-30</td>\n",
       "      <td>0</td>\n",
       "      <td>1</td>\n",
       "      <td>N</td>\n",
       "    </tr>\n",
       "    <tr>\n",
       "      <th>2</th>\n",
       "      <td>3006CD0000949</td>\n",
       "      <td>2018-04-07</td>\n",
       "      <td>2018-04-30</td>\n",
       "      <td>0</td>\n",
       "      <td>3</td>\n",
       "      <td>N</td>\n",
       "    </tr>\n",
       "    <tr>\n",
       "      <th>3</th>\n",
       "      <td>3006CD0000951</td>\n",
       "      <td>2018-04-07</td>\n",
       "      <td>2018-04-30</td>\n",
       "      <td>0</td>\n",
       "      <td>3</td>\n",
       "      <td>N</td>\n",
       "    </tr>\n",
       "    <tr>\n",
       "      <th>4</th>\n",
       "      <td>3006CD0000439</td>\n",
       "      <td>2018-04-07</td>\n",
       "      <td>2018-04-30</td>\n",
       "      <td>0</td>\n",
       "      <td>4</td>\n",
       "      <td>N</td>\n",
       "    </tr>\n",
       "  </tbody>\n",
       "</table>\n",
       "</div>"
      ],
      "text/plain": [
       "      PROSPECTID INSTALMENT_DATE    CUTDATE  DPD  MOB TENOR_COMPLETED\n",
       "0  3001CD0000934      2018-04-07 2018-04-30    0    1               N\n",
       "1  3001CD0000921      2018-04-07 2018-04-30    0    1               N\n",
       "2  3006CD0000949      2018-04-07 2018-04-30    0    3               N\n",
       "3  3006CD0000951      2018-04-07 2018-04-30    0    3               N\n",
       "4  3006CD0000439      2018-04-07 2018-04-30    0    4               N"
      ]
     },
     "execution_count": 37,
     "metadata": {},
     "output_type": "execute_result"
    }
   ],
   "source": [
    "OD_DATA.head()"
   ]
  },
  {
   "cell_type": "code",
   "execution_count": 38,
   "metadata": {},
   "outputs": [],
   "source": [
    "OD_DATA = OD_DATA.sort_values(by = ['PROSPECTID','CUTDATE','MOB'])\n",
    "OD_DATA = OD_DATA.reset_index()\n",
    "del OD_DATA['index']"
   ]
  },
  {
   "cell_type": "code",
   "execution_count": 39,
   "metadata": {},
   "outputs": [
    {
     "name": "stdout",
     "output_type": "stream",
     "text": [
      "Min Closed Date: 2017-12-31 00:00:00\n",
      "Max Closed Date**: 2019-02-28 00:00:00\n"
     ]
    }
   ],
   "source": [
    "print('Min Closed Date:',min(OD_DATA.CUTDATE))\n",
    "print('Max Closed Date**:',max(OD_DATA.CUTDATE))"
   ]
  },
  {
   "cell_type": "code",
   "execution_count": 15,
   "metadata": {},
   "outputs": [
    {
     "data": {
      "text/html": [
       "<div>\n",
       "<style scoped>\n",
       "    .dataframe tbody tr th:only-of-type {\n",
       "        vertical-align: middle;\n",
       "    }\n",
       "\n",
       "    .dataframe tbody tr th {\n",
       "        vertical-align: top;\n",
       "    }\n",
       "\n",
       "    .dataframe thead th {\n",
       "        text-align: right;\n",
       "    }\n",
       "</style>\n",
       "<table border=\"1\" class=\"dataframe\">\n",
       "  <thead>\n",
       "    <tr style=\"text-align: right;\">\n",
       "      <th></th>\n",
       "      <th>PROSPECTID</th>\n",
       "      <th>INSTALMENT_DATE</th>\n",
       "      <th>CUTDATE</th>\n",
       "      <th>DPD</th>\n",
       "      <th>MOB</th>\n",
       "      <th>TENOR_COMPLETED</th>\n",
       "    </tr>\n",
       "  </thead>\n",
       "  <tbody>\n",
       "    <tr>\n",
       "      <th>0</th>\n",
       "      <td>3000CD0036234</td>\n",
       "      <td>2018-12-07</td>\n",
       "      <td>2018-12-31</td>\n",
       "      <td>0</td>\n",
       "      <td>1</td>\n",
       "      <td>N</td>\n",
       "    </tr>\n",
       "    <tr>\n",
       "      <th>1</th>\n",
       "      <td>3000CD0036234</td>\n",
       "      <td>2019-01-07</td>\n",
       "      <td>2019-01-31</td>\n",
       "      <td>0</td>\n",
       "      <td>2</td>\n",
       "      <td>N</td>\n",
       "    </tr>\n",
       "    <tr>\n",
       "      <th>2</th>\n",
       "      <td>3000CD0036234</td>\n",
       "      <td>2019-02-07</td>\n",
       "      <td>2019-02-28</td>\n",
       "      <td>0</td>\n",
       "      <td>3</td>\n",
       "      <td>N</td>\n",
       "    </tr>\n",
       "    <tr>\n",
       "      <th>3</th>\n",
       "      <td>3000CD0036234</td>\n",
       "      <td>2019-03-07</td>\n",
       "      <td>2019-03-31</td>\n",
       "      <td>0</td>\n",
       "      <td>4</td>\n",
       "      <td>N</td>\n",
       "    </tr>\n",
       "    <tr>\n",
       "      <th>4</th>\n",
       "      <td>3000CD0036234</td>\n",
       "      <td>2019-04-07</td>\n",
       "      <td>2019-04-30</td>\n",
       "      <td>0</td>\n",
       "      <td>5</td>\n",
       "      <td>N</td>\n",
       "    </tr>\n",
       "    <tr>\n",
       "      <th>5</th>\n",
       "      <td>3000CD0039071</td>\n",
       "      <td>2018-11-07</td>\n",
       "      <td>2018-11-30</td>\n",
       "      <td>0</td>\n",
       "      <td>1</td>\n",
       "      <td>N</td>\n",
       "    </tr>\n",
       "    <tr>\n",
       "      <th>6</th>\n",
       "      <td>3000CD0039071</td>\n",
       "      <td>2018-12-07</td>\n",
       "      <td>2018-12-31</td>\n",
       "      <td>0</td>\n",
       "      <td>2</td>\n",
       "      <td>N</td>\n",
       "    </tr>\n",
       "    <tr>\n",
       "      <th>7</th>\n",
       "      <td>3000CD0039071</td>\n",
       "      <td>2019-01-07</td>\n",
       "      <td>2019-01-31</td>\n",
       "      <td>0</td>\n",
       "      <td>3</td>\n",
       "      <td>N</td>\n",
       "    </tr>\n",
       "    <tr>\n",
       "      <th>8</th>\n",
       "      <td>3000CD0039071</td>\n",
       "      <td>2019-02-07</td>\n",
       "      <td>2019-02-28</td>\n",
       "      <td>0</td>\n",
       "      <td>4</td>\n",
       "      <td>N</td>\n",
       "    </tr>\n",
       "    <tr>\n",
       "      <th>9</th>\n",
       "      <td>3000CD0039071</td>\n",
       "      <td>2019-03-07</td>\n",
       "      <td>2019-03-31</td>\n",
       "      <td>0</td>\n",
       "      <td>5</td>\n",
       "      <td>N</td>\n",
       "    </tr>\n",
       "    <tr>\n",
       "      <th>10</th>\n",
       "      <td>3000CD0039071</td>\n",
       "      <td>2019-04-07</td>\n",
       "      <td>2019-04-30</td>\n",
       "      <td>0</td>\n",
       "      <td>6</td>\n",
       "      <td>N</td>\n",
       "    </tr>\n",
       "    <tr>\n",
       "      <th>11</th>\n",
       "      <td>3000CD0039144</td>\n",
       "      <td>2018-11-07</td>\n",
       "      <td>2018-11-30</td>\n",
       "      <td>0</td>\n",
       "      <td>1</td>\n",
       "      <td>N</td>\n",
       "    </tr>\n",
       "    <tr>\n",
       "      <th>12</th>\n",
       "      <td>3000CD0039144</td>\n",
       "      <td>2018-12-07</td>\n",
       "      <td>2018-12-31</td>\n",
       "      <td>0</td>\n",
       "      <td>2</td>\n",
       "      <td>N</td>\n",
       "    </tr>\n",
       "    <tr>\n",
       "      <th>13</th>\n",
       "      <td>3000CD0039144</td>\n",
       "      <td>2019-01-07</td>\n",
       "      <td>2019-01-31</td>\n",
       "      <td>0</td>\n",
       "      <td>3</td>\n",
       "      <td>N</td>\n",
       "    </tr>\n",
       "    <tr>\n",
       "      <th>14</th>\n",
       "      <td>3000CD0039144</td>\n",
       "      <td>2019-02-07</td>\n",
       "      <td>2019-02-28</td>\n",
       "      <td>0</td>\n",
       "      <td>4</td>\n",
       "      <td>N</td>\n",
       "    </tr>\n",
       "    <tr>\n",
       "      <th>15</th>\n",
       "      <td>3000CD0039144</td>\n",
       "      <td>2019-03-07</td>\n",
       "      <td>2019-03-31</td>\n",
       "      <td>0</td>\n",
       "      <td>5</td>\n",
       "      <td>N</td>\n",
       "    </tr>\n",
       "    <tr>\n",
       "      <th>16</th>\n",
       "      <td>3000CD0039144</td>\n",
       "      <td>2019-04-07</td>\n",
       "      <td>2019-04-30</td>\n",
       "      <td>0</td>\n",
       "      <td>6</td>\n",
       "      <td>N</td>\n",
       "    </tr>\n",
       "    <tr>\n",
       "      <th>17</th>\n",
       "      <td>3000CD0039194</td>\n",
       "      <td>2018-11-07</td>\n",
       "      <td>2018-11-30</td>\n",
       "      <td>0</td>\n",
       "      <td>1</td>\n",
       "      <td>N</td>\n",
       "    </tr>\n",
       "    <tr>\n",
       "      <th>18</th>\n",
       "      <td>3000CD0039194</td>\n",
       "      <td>2018-12-07</td>\n",
       "      <td>2018-12-31</td>\n",
       "      <td>0</td>\n",
       "      <td>2</td>\n",
       "      <td>N</td>\n",
       "    </tr>\n",
       "    <tr>\n",
       "      <th>19</th>\n",
       "      <td>3000CD0039194</td>\n",
       "      <td>2019-01-07</td>\n",
       "      <td>2019-01-31</td>\n",
       "      <td>0</td>\n",
       "      <td>3</td>\n",
       "      <td>N</td>\n",
       "    </tr>\n",
       "    <tr>\n",
       "      <th>20</th>\n",
       "      <td>3000CD0039194</td>\n",
       "      <td>2019-02-07</td>\n",
       "      <td>2019-02-28</td>\n",
       "      <td>0</td>\n",
       "      <td>4</td>\n",
       "      <td>N</td>\n",
       "    </tr>\n",
       "    <tr>\n",
       "      <th>21</th>\n",
       "      <td>3000CD0039194</td>\n",
       "      <td>2019-03-07</td>\n",
       "      <td>2019-03-31</td>\n",
       "      <td>0</td>\n",
       "      <td>5</td>\n",
       "      <td>N</td>\n",
       "    </tr>\n",
       "    <tr>\n",
       "      <th>22</th>\n",
       "      <td>3000CD0039194</td>\n",
       "      <td>2019-04-07</td>\n",
       "      <td>2019-04-30</td>\n",
       "      <td>0</td>\n",
       "      <td>6</td>\n",
       "      <td>N</td>\n",
       "    </tr>\n",
       "    <tr>\n",
       "      <th>23</th>\n",
       "      <td>3000CD0040053</td>\n",
       "      <td>2018-11-07</td>\n",
       "      <td>2018-11-30</td>\n",
       "      <td>0</td>\n",
       "      <td>1</td>\n",
       "      <td>N</td>\n",
       "    </tr>\n",
       "    <tr>\n",
       "      <th>24</th>\n",
       "      <td>3000CD0040053</td>\n",
       "      <td>2018-12-07</td>\n",
       "      <td>2018-12-31</td>\n",
       "      <td>0</td>\n",
       "      <td>2</td>\n",
       "      <td>N</td>\n",
       "    </tr>\n",
       "    <tr>\n",
       "      <th>25</th>\n",
       "      <td>3000CD0040053</td>\n",
       "      <td>2019-01-07</td>\n",
       "      <td>2019-01-31</td>\n",
       "      <td>24</td>\n",
       "      <td>3</td>\n",
       "      <td>N</td>\n",
       "    </tr>\n",
       "    <tr>\n",
       "      <th>26</th>\n",
       "      <td>3000CD0040053</td>\n",
       "      <td>2019-02-07</td>\n",
       "      <td>2019-02-28</td>\n",
       "      <td>21</td>\n",
       "      <td>4</td>\n",
       "      <td>N</td>\n",
       "    </tr>\n",
       "    <tr>\n",
       "      <th>27</th>\n",
       "      <td>3000CD0040053</td>\n",
       "      <td>2019-03-07</td>\n",
       "      <td>2019-03-31</td>\n",
       "      <td>24</td>\n",
       "      <td>5</td>\n",
       "      <td>N</td>\n",
       "    </tr>\n",
       "    <tr>\n",
       "      <th>28</th>\n",
       "      <td>3000CD0040053</td>\n",
       "      <td>2019-04-07</td>\n",
       "      <td>2019-04-30</td>\n",
       "      <td>23</td>\n",
       "      <td>6</td>\n",
       "      <td>N</td>\n",
       "    </tr>\n",
       "    <tr>\n",
       "      <th>29</th>\n",
       "      <td>3000CD0040548</td>\n",
       "      <td>2018-11-07</td>\n",
       "      <td>2018-11-30</td>\n",
       "      <td>0</td>\n",
       "      <td>1</td>\n",
       "      <td>N</td>\n",
       "    </tr>\n",
       "    <tr>\n",
       "      <th>30</th>\n",
       "      <td>3000CD0040548</td>\n",
       "      <td>2018-12-07</td>\n",
       "      <td>2018-12-31</td>\n",
       "      <td>0</td>\n",
       "      <td>2</td>\n",
       "      <td>N</td>\n",
       "    </tr>\n",
       "    <tr>\n",
       "      <th>31</th>\n",
       "      <td>3000CD0040548</td>\n",
       "      <td>2019-01-07</td>\n",
       "      <td>2019-01-31</td>\n",
       "      <td>0</td>\n",
       "      <td>3</td>\n",
       "      <td>N</td>\n",
       "    </tr>\n",
       "    <tr>\n",
       "      <th>32</th>\n",
       "      <td>3000CD0040548</td>\n",
       "      <td>2019-02-07</td>\n",
       "      <td>2019-02-28</td>\n",
       "      <td>0</td>\n",
       "      <td>4</td>\n",
       "      <td>N</td>\n",
       "    </tr>\n",
       "    <tr>\n",
       "      <th>33</th>\n",
       "      <td>3000CD0040548</td>\n",
       "      <td>2019-03-07</td>\n",
       "      <td>2019-03-31</td>\n",
       "      <td>0</td>\n",
       "      <td>5</td>\n",
       "      <td>N</td>\n",
       "    </tr>\n",
       "    <tr>\n",
       "      <th>34</th>\n",
       "      <td>3000CD0040548</td>\n",
       "      <td>2019-04-07</td>\n",
       "      <td>2019-04-30</td>\n",
       "      <td>0</td>\n",
       "      <td>6</td>\n",
       "      <td>N</td>\n",
       "    </tr>\n",
       "    <tr>\n",
       "      <th>35</th>\n",
       "      <td>3000CD0040617</td>\n",
       "      <td>2018-11-07</td>\n",
       "      <td>2018-11-30</td>\n",
       "      <td>0</td>\n",
       "      <td>1</td>\n",
       "      <td>N</td>\n",
       "    </tr>\n",
       "    <tr>\n",
       "      <th>36</th>\n",
       "      <td>3000CD0040617</td>\n",
       "      <td>2018-12-07</td>\n",
       "      <td>2018-12-31</td>\n",
       "      <td>0</td>\n",
       "      <td>2</td>\n",
       "      <td>N</td>\n",
       "    </tr>\n",
       "    <tr>\n",
       "      <th>37</th>\n",
       "      <td>3000CD0040617</td>\n",
       "      <td>2019-01-07</td>\n",
       "      <td>2019-01-31</td>\n",
       "      <td>0</td>\n",
       "      <td>3</td>\n",
       "      <td>N</td>\n",
       "    </tr>\n",
       "    <tr>\n",
       "      <th>38</th>\n",
       "      <td>3000CD0040617</td>\n",
       "      <td>2019-02-07</td>\n",
       "      <td>2019-02-28</td>\n",
       "      <td>0</td>\n",
       "      <td>4</td>\n",
       "      <td>N</td>\n",
       "    </tr>\n",
       "    <tr>\n",
       "      <th>39</th>\n",
       "      <td>3000CD0040617</td>\n",
       "      <td>2019-03-07</td>\n",
       "      <td>2019-03-31</td>\n",
       "      <td>0</td>\n",
       "      <td>5</td>\n",
       "      <td>N</td>\n",
       "    </tr>\n",
       "    <tr>\n",
       "      <th>40</th>\n",
       "      <td>3000CD0040822</td>\n",
       "      <td>2018-11-07</td>\n",
       "      <td>2018-11-30</td>\n",
       "      <td>23</td>\n",
       "      <td>1</td>\n",
       "      <td>N</td>\n",
       "    </tr>\n",
       "    <tr>\n",
       "      <th>41</th>\n",
       "      <td>3000CD0040822</td>\n",
       "      <td>2018-12-07</td>\n",
       "      <td>2018-12-31</td>\n",
       "      <td>54</td>\n",
       "      <td>2</td>\n",
       "      <td>N</td>\n",
       "    </tr>\n",
       "    <tr>\n",
       "      <th>42</th>\n",
       "      <td>3000CD0040822</td>\n",
       "      <td>2019-01-07</td>\n",
       "      <td>2019-01-31</td>\n",
       "      <td>55</td>\n",
       "      <td>3</td>\n",
       "      <td>N</td>\n",
       "    </tr>\n",
       "    <tr>\n",
       "      <th>43</th>\n",
       "      <td>3000CD0040822</td>\n",
       "      <td>2019-02-07</td>\n",
       "      <td>2019-02-28</td>\n",
       "      <td>83</td>\n",
       "      <td>4</td>\n",
       "      <td>N</td>\n",
       "    </tr>\n",
       "    <tr>\n",
       "      <th>44</th>\n",
       "      <td>3000CD0040822</td>\n",
       "      <td>2019-03-07</td>\n",
       "      <td>2019-03-31</td>\n",
       "      <td>114</td>\n",
       "      <td>5</td>\n",
       "      <td>N</td>\n",
       "    </tr>\n",
       "    <tr>\n",
       "      <th>45</th>\n",
       "      <td>3000CD0040822</td>\n",
       "      <td>2019-04-07</td>\n",
       "      <td>2019-04-30</td>\n",
       "      <td>144</td>\n",
       "      <td>6</td>\n",
       "      <td>N</td>\n",
       "    </tr>\n",
       "    <tr>\n",
       "      <th>46</th>\n",
       "      <td>3000CD0040889</td>\n",
       "      <td>2018-11-07</td>\n",
       "      <td>2018-11-30</td>\n",
       "      <td>0</td>\n",
       "      <td>1</td>\n",
       "      <td>N</td>\n",
       "    </tr>\n",
       "    <tr>\n",
       "      <th>47</th>\n",
       "      <td>3000CD0040889</td>\n",
       "      <td>2018-12-07</td>\n",
       "      <td>2018-12-31</td>\n",
       "      <td>0</td>\n",
       "      <td>2</td>\n",
       "      <td>N</td>\n",
       "    </tr>\n",
       "    <tr>\n",
       "      <th>48</th>\n",
       "      <td>3000CD0040889</td>\n",
       "      <td>2019-01-07</td>\n",
       "      <td>2019-01-31</td>\n",
       "      <td>0</td>\n",
       "      <td>3</td>\n",
       "      <td>N</td>\n",
       "    </tr>\n",
       "    <tr>\n",
       "      <th>49</th>\n",
       "      <td>3000CD0040889</td>\n",
       "      <td>2019-02-07</td>\n",
       "      <td>2019-02-28</td>\n",
       "      <td>0</td>\n",
       "      <td>4</td>\n",
       "      <td>N</td>\n",
       "    </tr>\n",
       "  </tbody>\n",
       "</table>\n",
       "</div>"
      ],
      "text/plain": [
       "       PROSPECTID INSTALMENT_DATE    CUTDATE  DPD  MOB TENOR_COMPLETED\n",
       "0   3000CD0036234      2018-12-07 2018-12-31    0    1               N\n",
       "1   3000CD0036234      2019-01-07 2019-01-31    0    2               N\n",
       "2   3000CD0036234      2019-02-07 2019-02-28    0    3               N\n",
       "3   3000CD0036234      2019-03-07 2019-03-31    0    4               N\n",
       "4   3000CD0036234      2019-04-07 2019-04-30    0    5               N\n",
       "5   3000CD0039071      2018-11-07 2018-11-30    0    1               N\n",
       "6   3000CD0039071      2018-12-07 2018-12-31    0    2               N\n",
       "7   3000CD0039071      2019-01-07 2019-01-31    0    3               N\n",
       "8   3000CD0039071      2019-02-07 2019-02-28    0    4               N\n",
       "9   3000CD0039071      2019-03-07 2019-03-31    0    5               N\n",
       "10  3000CD0039071      2019-04-07 2019-04-30    0    6               N\n",
       "11  3000CD0039144      2018-11-07 2018-11-30    0    1               N\n",
       "12  3000CD0039144      2018-12-07 2018-12-31    0    2               N\n",
       "13  3000CD0039144      2019-01-07 2019-01-31    0    3               N\n",
       "14  3000CD0039144      2019-02-07 2019-02-28    0    4               N\n",
       "15  3000CD0039144      2019-03-07 2019-03-31    0    5               N\n",
       "16  3000CD0039144      2019-04-07 2019-04-30    0    6               N\n",
       "17  3000CD0039194      2018-11-07 2018-11-30    0    1               N\n",
       "18  3000CD0039194      2018-12-07 2018-12-31    0    2               N\n",
       "19  3000CD0039194      2019-01-07 2019-01-31    0    3               N\n",
       "20  3000CD0039194      2019-02-07 2019-02-28    0    4               N\n",
       "21  3000CD0039194      2019-03-07 2019-03-31    0    5               N\n",
       "22  3000CD0039194      2019-04-07 2019-04-30    0    6               N\n",
       "23  3000CD0040053      2018-11-07 2018-11-30    0    1               N\n",
       "24  3000CD0040053      2018-12-07 2018-12-31    0    2               N\n",
       "25  3000CD0040053      2019-01-07 2019-01-31   24    3               N\n",
       "26  3000CD0040053      2019-02-07 2019-02-28   21    4               N\n",
       "27  3000CD0040053      2019-03-07 2019-03-31   24    5               N\n",
       "28  3000CD0040053      2019-04-07 2019-04-30   23    6               N\n",
       "29  3000CD0040548      2018-11-07 2018-11-30    0    1               N\n",
       "30  3000CD0040548      2018-12-07 2018-12-31    0    2               N\n",
       "31  3000CD0040548      2019-01-07 2019-01-31    0    3               N\n",
       "32  3000CD0040548      2019-02-07 2019-02-28    0    4               N\n",
       "33  3000CD0040548      2019-03-07 2019-03-31    0    5               N\n",
       "34  3000CD0040548      2019-04-07 2019-04-30    0    6               N\n",
       "35  3000CD0040617      2018-11-07 2018-11-30    0    1               N\n",
       "36  3000CD0040617      2018-12-07 2018-12-31    0    2               N\n",
       "37  3000CD0040617      2019-01-07 2019-01-31    0    3               N\n",
       "38  3000CD0040617      2019-02-07 2019-02-28    0    4               N\n",
       "39  3000CD0040617      2019-03-07 2019-03-31    0    5               N\n",
       "40  3000CD0040822      2018-11-07 2018-11-30   23    1               N\n",
       "41  3000CD0040822      2018-12-07 2018-12-31   54    2               N\n",
       "42  3000CD0040822      2019-01-07 2019-01-31   55    3               N\n",
       "43  3000CD0040822      2019-02-07 2019-02-28   83    4               N\n",
       "44  3000CD0040822      2019-03-07 2019-03-31  114    5               N\n",
       "45  3000CD0040822      2019-04-07 2019-04-30  144    6               N\n",
       "46  3000CD0040889      2018-11-07 2018-11-30    0    1               N\n",
       "47  3000CD0040889      2018-12-07 2018-12-31    0    2               N\n",
       "48  3000CD0040889      2019-01-07 2019-01-31    0    3               N\n",
       "49  3000CD0040889      2019-02-07 2019-02-28    0    4               N"
      ]
     },
     "execution_count": 15,
     "metadata": {},
     "output_type": "execute_result"
    }
   ],
   "source": [
    "OD_DATA.head(50)"
   ]
  },
  {
   "cell_type": "code",
   "execution_count": 40,
   "metadata": {},
   "outputs": [
    {
     "data": {
      "text/plain": [
       "(1164914, 6)"
      ]
     },
     "execution_count": 40,
     "metadata": {},
     "output_type": "execute_result"
    }
   ],
   "source": [
    "OD_DATA.shape"
   ]
  },
  {
   "cell_type": "code",
   "execution_count": 41,
   "metadata": {},
   "outputs": [],
   "source": [
    "OD_DATA = OD_DATA[OD_DATA['TENOR_COMPLETED'] == 'N']"
   ]
  },
  {
   "cell_type": "code",
   "execution_count": 42,
   "metadata": {},
   "outputs": [
    {
     "name": "stdout",
     "output_type": "stream",
     "text": [
      "Min Closed Date: 2017-12-31 00:00:00\n",
      "Max Closed Date**: 2019-02-28 00:00:00\n"
     ]
    }
   ],
   "source": [
    "print('Min Closed Date:',min(OD_DATA.CUTDATE))\n",
    "print('Max Closed Date**:',max(OD_DATA.CUTDATE))"
   ]
  },
  {
   "cell_type": "code",
   "execution_count": 19,
   "metadata": {},
   "outputs": [
    {
     "data": {
      "text/plain": [
       "(972846, 6)"
      ]
     },
     "execution_count": 19,
     "metadata": {},
     "output_type": "execute_result"
    }
   ],
   "source": [
    "OD_DATA.shape"
   ]
  },
  {
   "cell_type": "code",
   "execution_count": null,
   "metadata": {},
   "outputs": [],
   "source": [
    "# DISB_DATA['ORIG_DATE'] =DISB_DATA['DISBDATE'].astype(str)\n",
    "# DISB_DATA['y'] = pd.DataFrame(DISB_DATA['ORIG_DATE'].apply(lambda x:  x[6:10]))\n",
    "# DISB_DATA['m'] = pd.DataFrame(DISB_DATA['ORIG_DATE'].apply(lambda x:  x[3:5]))\n",
    "# DISB_DATA['ORIGINATION_DATE'] = DISB_DATA['y'] +  \"_\" + DISB_DATA['m']\n",
    "# del DISB_DATA['y']\n",
    "# del DISB_DATA['m']"
   ]
  },
  {
   "cell_type": "code",
   "execution_count": null,
   "metadata": {},
   "outputs": [],
   "source": [
    "########   Deriving Orig Date using CUTDATE\n",
    "#ORIG_DATA = OD_DATA.drop_duplicates(subset='PROSPECTID', inplace=False)\n",
    "#ORIG_DATA['ORIG_DATE']=ORIG_DATA['CUTDATE'].apply(lambda x:x+dateutil.relativedelta.relativedelta(months=-1))\n",
    "#ORIG_DATA.head(10)"
   ]
  },
  {
   "cell_type": "code",
   "execution_count": null,
   "metadata": {},
   "outputs": [],
   "source": []
  },
  {
   "cell_type": "code",
   "execution_count": 43,
   "metadata": {},
   "outputs": [
    {
     "data": {
      "text/html": [
       "<div>\n",
       "<style scoped>\n",
       "    .dataframe tbody tr th:only-of-type {\n",
       "        vertical-align: middle;\n",
       "    }\n",
       "\n",
       "    .dataframe tbody tr th {\n",
       "        vertical-align: top;\n",
       "    }\n",
       "\n",
       "    .dataframe thead th {\n",
       "        text-align: right;\n",
       "    }\n",
       "</style>\n",
       "<table border=\"1\" class=\"dataframe\">\n",
       "  <thead>\n",
       "    <tr style=\"text-align: right;\">\n",
       "      <th></th>\n",
       "      <th>PROSPECTID</th>\n",
       "      <th>DISBDATE</th>\n",
       "    </tr>\n",
       "  </thead>\n",
       "  <tbody>\n",
       "    <tr>\n",
       "      <th>0</th>\n",
       "      <td>3078CD0004450</td>\n",
       "      <td>26/02/2018</td>\n",
       "    </tr>\n",
       "    <tr>\n",
       "      <th>1</th>\n",
       "      <td>3078CD0004016</td>\n",
       "      <td>26/02/2018</td>\n",
       "    </tr>\n",
       "    <tr>\n",
       "      <th>2</th>\n",
       "      <td>3054CD0003543</td>\n",
       "      <td>26/02/2018</td>\n",
       "    </tr>\n",
       "    <tr>\n",
       "      <th>3</th>\n",
       "      <td>3000CD0003431</td>\n",
       "      <td>26/02/2018</td>\n",
       "    </tr>\n",
       "    <tr>\n",
       "      <th>4</th>\n",
       "      <td>3006CD0001457</td>\n",
       "      <td>26/02/2018</td>\n",
       "    </tr>\n",
       "  </tbody>\n",
       "</table>\n",
       "</div>"
      ],
      "text/plain": [
       "      PROSPECTID    DISBDATE\n",
       "0  3078CD0004450  26/02/2018\n",
       "1  3078CD0004016  26/02/2018\n",
       "2  3054CD0003543  26/02/2018\n",
       "3  3000CD0003431  26/02/2018\n",
       "4  3006CD0001457  26/02/2018"
      ]
     },
     "execution_count": 43,
     "metadata": {},
     "output_type": "execute_result"
    }
   ],
   "source": [
    "############  To Pull DISBURSAL Date for origination Date\n",
    "DISB_DATA = pd.read_csv(\"/data_tvsc/APR10_DATA/VS_LOS_TBL_PERSONAL_DETAILS.csv\")\n",
    "DISB_DATA=pd.DataFrame(DISB_DATA[['PROSPECTID','DISBDATE']])\n",
    "DISB_DATA = DISB_DATA.drop_duplicates(subset='PROSPECTID', inplace=False)\n",
    "DISB_DATA.head(5)"
   ]
  },
  {
   "cell_type": "code",
   "execution_count": 44,
   "metadata": {},
   "outputs": [],
   "source": [
    "DISB_DATA['ORIG_DATE'] =DISB_DATA['DISBDATE'].astype(str)\n",
    "DISB_DATA['y'] = pd.DataFrame(DISB_DATA['ORIG_DATE'].apply(lambda x:  x[6:10]))\n",
    "DISB_DATA['m'] = pd.DataFrame(DISB_DATA['ORIG_DATE'].apply(lambda x:  x[3:5]))\n",
    "DISB_DATA['ORIGINATION_DATE'] = DISB_DATA['y'] +  \"_\" + DISB_DATA['m']\n",
    "del DISB_DATA['y']\n",
    "del DISB_DATA['m']\n"
   ]
  },
  {
   "cell_type": "code",
   "execution_count": 45,
   "metadata": {},
   "outputs": [
    {
     "data": {
      "text/plain": [
       "PROSPECTID          object\n",
       "DISBDATE            object\n",
       "ORIG_DATE           object\n",
       "ORIGINATION_DATE    object\n",
       "dtype: object"
      ]
     },
     "execution_count": 45,
     "metadata": {},
     "output_type": "execute_result"
    }
   ],
   "source": [
    "DISB_DATA.dtypes"
   ]
  },
  {
   "cell_type": "code",
   "execution_count": 46,
   "metadata": {},
   "outputs": [
    {
     "data": {
      "text/html": [
       "<div>\n",
       "<style scoped>\n",
       "    .dataframe tbody tr th:only-of-type {\n",
       "        vertical-align: middle;\n",
       "    }\n",
       "\n",
       "    .dataframe tbody tr th {\n",
       "        vertical-align: top;\n",
       "    }\n",
       "\n",
       "    .dataframe thead th {\n",
       "        text-align: right;\n",
       "    }\n",
       "</style>\n",
       "<table border=\"1\" class=\"dataframe\">\n",
       "  <thead>\n",
       "    <tr style=\"text-align: right;\">\n",
       "      <th></th>\n",
       "      <th>PROSPECTID</th>\n",
       "      <th>ORIG_DATE</th>\n",
       "      <th>ORIGINATION_DATE</th>\n",
       "    </tr>\n",
       "  </thead>\n",
       "  <tbody>\n",
       "    <tr>\n",
       "      <th>0</th>\n",
       "      <td>3078CD0004450</td>\n",
       "      <td>26/02/2018</td>\n",
       "      <td>2018_02</td>\n",
       "    </tr>\n",
       "    <tr>\n",
       "      <th>1</th>\n",
       "      <td>3078CD0004016</td>\n",
       "      <td>26/02/2018</td>\n",
       "      <td>2018_02</td>\n",
       "    </tr>\n",
       "    <tr>\n",
       "      <th>2</th>\n",
       "      <td>3054CD0003543</td>\n",
       "      <td>26/02/2018</td>\n",
       "      <td>2018_02</td>\n",
       "    </tr>\n",
       "    <tr>\n",
       "      <th>3</th>\n",
       "      <td>3000CD0003431</td>\n",
       "      <td>26/02/2018</td>\n",
       "      <td>2018_02</td>\n",
       "    </tr>\n",
       "    <tr>\n",
       "      <th>4</th>\n",
       "      <td>3006CD0001457</td>\n",
       "      <td>26/02/2018</td>\n",
       "      <td>2018_02</td>\n",
       "    </tr>\n",
       "  </tbody>\n",
       "</table>\n",
       "</div>"
      ],
      "text/plain": [
       "      PROSPECTID   ORIG_DATE ORIGINATION_DATE\n",
       "0  3078CD0004450  26/02/2018          2018_02\n",
       "1  3078CD0004016  26/02/2018          2018_02\n",
       "2  3054CD0003543  26/02/2018          2018_02\n",
       "3  3000CD0003431  26/02/2018          2018_02\n",
       "4  3006CD0001457  26/02/2018          2018_02"
      ]
     },
     "execution_count": 46,
     "metadata": {},
     "output_type": "execute_result"
    }
   ],
   "source": [
    "del DISB_DATA['DISBDATE']\n",
    "DISB_DATA.head(5)"
   ]
  },
  {
   "cell_type": "code",
   "execution_count": 24,
   "metadata": {},
   "outputs": [],
   "source": [
    "ORIG_DATA = DISB_DATA"
   ]
  },
  {
   "cell_type": "code",
   "execution_count": 47,
   "metadata": {},
   "outputs": [
    {
     "name": "stdout",
     "output_type": "stream",
     "text": [
      "Table By Origination Month:                    PROSPECTID\n",
      "ORIGINATION_DATE            \n",
      "2017_10                    4\n",
      "2017_11                  508\n",
      "2017_12                 1943\n",
      "2018_01                 2970\n",
      "2018_02                 3771\n",
      "2018_03                 5752\n",
      "2018_04                10124\n",
      "2018_05                14470\n",
      "2018_06                21267\n",
      "2018_07                30766\n",
      "2018_08                43412\n",
      "2018_09                50229\n"
     ]
    }
   ],
   "source": [
    "###   Origination Distribution by Months\n",
    "table1 = pd.pivot_table(DISB_DATA, index=['ORIGINATION_DATE'], values='PROSPECTID',aggfunc=len)\n",
    "print('Table By Origination Month: ',table1)"
   ]
  },
  {
   "cell_type": "code",
   "execution_count": null,
   "metadata": {},
   "outputs": [],
   "source": [
    "print('disbursal data')\n",
    "DISB_DATA.PROSPECTID.nunique()"
   ]
  },
  {
   "cell_type": "code",
   "execution_count": null,
   "metadata": {},
   "outputs": [],
   "source": [
    "print('OD Data')\n",
    "OD_DATA.PROSPECTID.nunique()"
   ]
  },
  {
   "cell_type": "code",
   "execution_count": null,
   "metadata": {},
   "outputs": [],
   "source": [
    "###  OD Data have 185182 ID's but Dsib data 185216 ID's"
   ]
  },
  {
   "cell_type": "code",
   "execution_count": null,
   "metadata": {},
   "outputs": [],
   "source": [
    "#######   Joining tables to get  Origination Date \n",
    "ORIG_DATA=pd.DataFrame(ORIG_DATA[['PROSPECTID','ORIGINATION_DATE']])\n",
    "OD_DATA = pd.merge(OD_DATA, ORIG_DATA, on=['PROSPECTID'], how='left')"
   ]
  },
  {
   "cell_type": "code",
   "execution_count": null,
   "metadata": {},
   "outputs": [],
   "source": [
    "OD_DATA.head(5)"
   ]
  },
  {
   "cell_type": "code",
   "execution_count": null,
   "metadata": {},
   "outputs": [],
   "source": [
    "#IPA_DATA[IPA_DATA['PROSPECTID'] == '3000CD0000015']\n",
    "#REP\n",
    "OD_DATA['MOB'].value_counts()"
   ]
  },
  {
   "cell_type": "code",
   "execution_count": null,
   "metadata": {},
   "outputs": [],
   "source": [
    "#####  This Table has Bounce reason column\n",
    "REP_DATA = pd.read_csv(\"/data_tvsc/APR10_DATA/REPAYMENT_DATA.CSV\")\n",
    "REP_DATA = REP_DATA.reset_index(drop=True)\n",
    "REP_DATA=pd.DataFrame(REP_DATA[['AGMTNO','CURRENT_DEMAND_STATUS','BOUNCE_REASON','CUTDATE','MOB']])\n",
    "REP_DATA['AGMTNO'] = REP_DATA['AGMTNO'].astype(str).apply(lambda x:  x[2:])\n",
    "REP_DATA = REP_DATA.rename(columns={'AGMTNO': 'PROSPECTID'})\n",
    "REP_DATA['CUTDATE']=pd.to_datetime(REP_DATA['CUTDATE'])\n",
    "REP_DATA = REP_DATA.sort_values(by = ['PROSPECTID','CUTDATE'],ascending = [True,True])\n",
    "REP_DATA = REP_DATA.reset_index()\n",
    "del REP_DATA['index']"
   ]
  },
  {
   "cell_type": "code",
   "execution_count": null,
   "metadata": {},
   "outputs": [],
   "source": [
    "REP_DATA.shape"
   ]
  },
  {
   "cell_type": "code",
   "execution_count": null,
   "metadata": {},
   "outputs": [],
   "source": [
    "# REP_DATA1 = REP_DATA\n",
    "# del REP_DATA"
   ]
  },
  {
   "cell_type": "code",
   "execution_count": null,
   "metadata": {},
   "outputs": [],
   "source": [
    "# REP_DATA = pd.read_csv(\"/home/avik/TVSC_Apr24/CD_REPAYMENT_LOT2.CSV\")\n",
    "# REP_DATA=pd.DataFrame(REP_DATA[['AGMTNO','CURRENT_DEMAND_STATUS','BOUNCE_REASON','CUTDATE','MOB']])\n",
    "# REP_DATA['AGMTNO'] = REP_DATA['AGMTNO'].astype(str).apply(lambda x:  x[2:])\n",
    "# REP_DATA = REP_DATA.rename(columns={'AGMTNO': 'PROSPECTID'})\n",
    "# REP_DATA['CUTDATE']=pd.to_datetime(REP_DATA['CUTDATE'])\n",
    "# REP_DATA = REP_DATA.sort_values(by = ['PROSPECTID','CUTDATE'],ascending = [True,True])\n",
    "# REP_DATA = REP_DATA.reset_index()\n",
    "# del REP_DATA['index']\n",
    "print(REP_DATA.PROSPECTID.nunique())"
   ]
  },
  {
   "cell_type": "code",
   "execution_count": null,
   "metadata": {},
   "outputs": [],
   "source": [
    "REP_DATA.shape"
   ]
  },
  {
   "cell_type": "code",
   "execution_count": null,
   "metadata": {},
   "outputs": [],
   "source": [
    "# REP_DATA2 = REP_DATA\n",
    "# del REP_DATA"
   ]
  },
  {
   "cell_type": "code",
   "execution_count": null,
   "metadata": {},
   "outputs": [],
   "source": [
    "# REP_DATA = pd.concat([REP_DATA1,REP_DATA2],axis=0)\n",
    "# print(OD_DATA.shape)"
   ]
  },
  {
   "cell_type": "code",
   "execution_count": null,
   "metadata": {},
   "outputs": [],
   "source": [
    "REP_DATA.head(10)"
   ]
  },
  {
   "cell_type": "code",
   "execution_count": null,
   "metadata": {},
   "outputs": [],
   "source": [
    "del REP_DATA['CURRENT_DEMAND_STATUS']"
   ]
  },
  {
   "cell_type": "code",
   "execution_count": null,
   "metadata": {},
   "outputs": [],
   "source": [
    "print('Min Closed Date:',min(REP_DATA.CUTDATE))\n",
    "print('Max Closed Date**:',max(REP_DATA.CUTDATE))"
   ]
  },
  {
   "cell_type": "code",
   "execution_count": null,
   "metadata": {},
   "outputs": [],
   "source": [
    "OD_IPA_data = OD_DATA"
   ]
  },
  {
   "cell_type": "code",
   "execution_count": null,
   "metadata": {},
   "outputs": [],
   "source": [
    "#######   Joining tables to get  Bounce Reason Column\n",
    "OD_IPA_REP_DATA = pd.merge(OD_IPA_data, REP_DATA, on=['PROSPECTID','CUTDATE','MOB'], how='left')\n",
    "OD_IPA_REP_DATA = OD_IPA_REP_DATA.sort_values(by = ['PROSPECTID','CUTDATE'],ascending = [True,True])"
   ]
  },
  {
   "cell_type": "code",
   "execution_count": null,
   "metadata": {},
   "outputs": [],
   "source": [
    "OD_IPA_REP_DATA.head(10)"
   ]
  },
  {
   "cell_type": "code",
   "execution_count": null,
   "metadata": {},
   "outputs": [],
   "source": [
    "####### Creating 3 lag columns for DPD variable to see next 3 months performance\n",
    "OD_IPA_REP_DATA['lag_1'] = OD_IPA_REP_DATA['DPD']\n",
    "OD_IPA_REP_DATA['lag_2'] = OD_IPA_REP_DATA.groupby(['PROSPECTID'])['DPD'].shift(-1)\n",
    "OD_IPA_REP_DATA['lag_3'] = OD_IPA_REP_DATA.groupby(['PROSPECTID'])['DPD'].shift(-2)\n",
    "OD_IPA_REP_DATA['lag_4'] = OD_IPA_REP_DATA.groupby(['PROSPECTID'])['DPD'].shift(-3)"
   ]
  },
  {
   "cell_type": "code",
   "execution_count": null,
   "metadata": {},
   "outputs": [],
   "source": [
    "OD_IPA_REP_DATA.head(10)"
   ]
  },
  {
   "cell_type": "code",
   "execution_count": null,
   "metadata": {},
   "outputs": [],
   "source": [
    "#########   For Tenor and ADVEMITENOR\n",
    "IPA_DATA = pd.read_csv(\"/data_tvsc/APR10_DATA/VS_LOS_TBL_POST_IPA.csv\")"
   ]
  },
  {
   "cell_type": "code",
   "execution_count": null,
   "metadata": {},
   "outputs": [],
   "source": [
    "IPA_DATA.shape"
   ]
  },
  {
   "cell_type": "code",
   "execution_count": null,
   "metadata": {},
   "outputs": [],
   "source": [
    "IPA_DATA.head()"
   ]
  },
  {
   "cell_type": "code",
   "execution_count": null,
   "metadata": {},
   "outputs": [],
   "source": [
    "IPA_DATA=pd.DataFrame(IPA_DATA[['PROSPECTID','TENOR','ADVEMITENOR']])\n",
    "IPA_DATA.head(5)"
   ]
  },
  {
   "cell_type": "code",
   "execution_count": null,
   "metadata": {},
   "outputs": [],
   "source": [
    "#####   Joinning Table to get Tenor and ADVEMITENOR\n",
    "OD_IPA_REP_DATA = pd.merge(OD_IPA_REP_DATA, IPA_DATA, on=['PROSPECTID'], how='left')"
   ]
  },
  {
   "cell_type": "code",
   "execution_count": null,
   "metadata": {},
   "outputs": [],
   "source": [
    "OD_IPA_REP_DATA = OD_IPA_REP_DATA.sort_values(by = ['PROSPECTID','CUTDATE','MOB'],ascending = [True,True,True])"
   ]
  },
  {
   "cell_type": "code",
   "execution_count": null,
   "metadata": {},
   "outputs": [],
   "source": [
    "FINAL_DF_DATA = OD_IPA_REP_DATA"
   ]
  },
  {
   "cell_type": "code",
   "execution_count": null,
   "metadata": {},
   "outputs": [],
   "source": [
    "#####    Creating Bounce Flag using Bounce Reasons\n",
    "import re\n",
    "target_list = ['FUNDS INSUFFICIENT','REFER TO DRAWER','NOT ARRANGED FOR','ACCOUNT FREEZED','ACCOUNT CLOSED','Non Home Debit -Inoperative A/c','EXCEEDS ARRANGEMENT','DORMANT A/C','NO SUCH ACCOUNT','MINOR A/C','ACCOUNT STOPPED','PAYMENT STOP BY DRAWER','Signature Mismatch']\n",
    "              \n",
    "FINAL_DF_DATA.BOUNCE_REASON.fillna('nan',inplace=True)\n",
    "FINAL_DF_DATA[\"BOUNCE_FLAG\"] = FINAL_DF_DATA['BOUNCE_REASON'].apply(lambda x:0 if len(re.findall(r\"(?=(\"+'|'.join(target_list)+r\"))\",x))==0 else 1)\n",
    "FINAL_DF_DATA['blag_1'] = FINAL_DF_DATA['BOUNCE_FLAG']\n",
    "FINAL_DF_DATA['blag_2'] = FINAL_DF_DATA.groupby(['PROSPECTID'])['BOUNCE_FLAG'].shift(-1)\n",
    "FINAL_DF_DATA['blag_3'] = FINAL_DF_DATA.groupby(['PROSPECTID'])['BOUNCE_FLAG'].shift(-2)\n",
    "FINAL_DF_DATA['blag_4'] = FINAL_DF_DATA.groupby(['PROSPECTID'])['BOUNCE_FLAG'].shift(-3)"
   ]
  },
  {
   "cell_type": "code",
   "execution_count": null,
   "metadata": {},
   "outputs": [],
   "source": [
    "#####    Creating Bounce Flag using Bounce Reasons \"BOU\"\n",
    "#FINAL_DF_DATA['BOU_STATUS']  =np.where(FINAL_DF_DATA['CURRENT_DEMAND_STATUS']=='BOU',1,0)"
   ]
  },
  {
   "cell_type": "code",
   "execution_count": null,
   "metadata": {},
   "outputs": [],
   "source": [
    "#######   Lag of Bounce FLAG\n",
    "#FINAL_DF_DATA['bslag_1'] = FINAL_DF_DATA['BOU_STATUS']\n",
    "#FINAL_DF_DATA['bslag_2'] = FINAL_DF_DATA.groupby(['PROSPECTID'])['BOU_STATUS'].shift(-1)\n",
    "#FINAL_DF_DATA['bslag_3'] = FINAL_DF_DATA.groupby(['PROSPECTID'])['BOU_STATUS'].shift(-2)"
   ]
  },
  {
   "cell_type": "code",
   "execution_count": null,
   "metadata": {},
   "outputs": [],
   "source": [
    "####   Creating Bad Flag for first 3 months\n",
    "FINAL_DF_DATA['30_DPD_F3M'] = np.where((FINAL_DF_DATA.lag_1 > 30)  | ((FINAL_DF_DATA.lag_2) > 30)  | ((FINAL_DF_DATA.lag_3) > 30) , 1, 0)\n",
    "# FINAL_DF_DATA['60+DPD_F3M'] = np.where((FINAL_DF_DATA.lag_1 > 60)  | ((FINAL_DF_DATA.lag_2) > 60)  | ((FINAL_DF_DATA.lag_3) > 60) , 1, 0)\n",
    "# FINAL_DF_DATA['90+DPD_F3M'] = np.where((FINAL_DF_DATA.lag_1 > 90)  | ((FINAL_DF_DATA.lag_2) > 90)  | ((FINAL_DF_DATA.lag_3) > 90) , 1, 0)\n",
    "FINAL_DF_DATA['BOUNCE_F3M'] = np.where((FINAL_DF_DATA.blag_1 == 1) | ((FINAL_DF_DATA.blag_2) == 1) | ((FINAL_DF_DATA.blag_3) == 1) , 1, 0)\n",
    "#FINAL_DF_DATA['BOU_STATUS+'] = np.where((FINAL_DF_DATA.bslag_1 == 1) | ((FINAL_DF_DATA.bslag_2) == 1) | ((FINAL_DF_DATA.bslag_3) == 1) , 1, 0)"
   ]
  },
  {
   "cell_type": "code",
   "execution_count": null,
   "metadata": {},
   "outputs": [],
   "source": [
    "####   Creating Bad Flag for first 4 months\n",
    "# FINAL_DF_DATA['30_DPD_F4M'] = np.where((FINAL_DF_DATA.lag_1 > 30)  | ((FINAL_DF_DATA.lag_2) > 30)  | ((FINAL_DF_DATA.lag_3) > 30)  | ((FINAL_DF_DATA.lag_4) > 30) , 1, 0)\n",
    "# FINAL_DF_DATA['60+DPD_F4M'] = np.where((FINAL_DF_DATA.lag_1 > 60)  | ((FINAL_DF_DATA.lag_2) > 60)  | ((FINAL_DF_DATA.lag_3) > 60)  | ((FINAL_DF_DATA.lag_4) > 60) , 1, 0)\n",
    "# FINAL_DF_DATA['90+DPD_F4M'] = np.where((FINAL_DF_DATA.lag_1 > 90)  | ((FINAL_DF_DATA.lag_2) > 90)  | ((FINAL_DF_DATA.lag_3) > 90)  | ((FINAL_DF_DATA.lag_4) > 90) , 1, 0)\n",
    "# FINAL_DF_DATA['BOUNCE_F4M'] = np.where((FINAL_DF_DATA.blag_1 == 1) | ((FINAL_DF_DATA.blag_2) == 1) | ((FINAL_DF_DATA.blag_3) == 1) | ((FINAL_DF_DATA.blag_4) == 1) , 1, 0)\n",
    "#FINAL_DF_DATA['BOU_STATUS+'] = np.where((FINAL_DF_DATA.bslag_1 == 1) | ((FINAL_DF_DATA.bslag_2) == 1) | ((FINAL_DF_DATA.bslag_3) == 1) , 1, 0)"
   ]
  },
  {
   "cell_type": "code",
   "execution_count": null,
   "metadata": {},
   "outputs": [],
   "source": [
    "FINAL_DF_DATA_2 = FINAL_DF_DATA\n",
    "FINAL_DF_DATA_2 = FINAL_DF_DATA_2.sort_values(by = ['PROSPECTID','CUTDATE'],ascending = [True,True])"
   ]
  },
  {
   "cell_type": "code",
   "execution_count": null,
   "metadata": {},
   "outputs": [],
   "source": [
    "FINAL_DF_DATA_2.head(5)"
   ]
  },
  {
   "cell_type": "code",
   "execution_count": null,
   "metadata": {},
   "outputs": [],
   "source": [
    "#FOR over All bad rate\n",
    "OVERALL_BAD_RATE_TABLE = FINAL_DF_DATA_2.drop_duplicates(subset='PROSPECTID', inplace=False)\n",
    "OVERALL_BAD_RATE_TABLE.head(5)"
   ]
  },
  {
   "cell_type": "code",
   "execution_count": null,
   "metadata": {},
   "outputs": [],
   "source": [
    "FINAL_DF_DATA_2.shape"
   ]
  },
  {
   "cell_type": "code",
   "execution_count": null,
   "metadata": {},
   "outputs": [],
   "source": [
    "OVERALL_BAD_RATE_TABLE.to_csv(\"APR10_DATA_DATA_BAD_RATE.csv\")"
   ]
  },
  {
   "cell_type": "code",
   "execution_count": null,
   "metadata": {},
   "outputs": [],
   "source": [
    "OVERALL_BAD_RATE_TABLE.shape"
   ]
  },
  {
   "cell_type": "code",
   "execution_count": null,
   "metadata": {},
   "outputs": [],
   "source": [
    "#################   To check working diectory\n",
    "# pwd"
   ]
  },
  {
   "cell_type": "code",
   "execution_count": null,
   "metadata": {},
   "outputs": [],
   "source": [
    "#########  Bad in first 3 months\n",
    "table = pd.pivot_table(OVERALL_BAD_RATE_TABLE, values=['30_DPD_F3M','BOUNCE_F3M'], index=['ORIGINATION_DATE'],aggfunc=np.sum)\n",
    "table1 = pd.pivot_table(OVERALL_BAD_RATE_TABLE, index=['ORIGINATION_DATE'], values='PROSPECTID',aggfunc=len)\n",
    "Bad_Rate_Table = pd.concat([table1,table],axis=1)\n",
    "Bad_Rate_Table = Bad_Rate_Table.reset_index()\n",
    "del table\n",
    "del table1"
   ]
  },
  {
   "cell_type": "code",
   "execution_count": null,
   "metadata": {},
   "outputs": [],
   "source": [
    "Bad_Rate_Table.head(5)"
   ]
  },
  {
   "cell_type": "code",
   "execution_count": null,
   "metadata": {},
   "outputs": [],
   "source": []
  },
  {
   "cell_type": "code",
   "execution_count": null,
   "metadata": {},
   "outputs": [],
   "source": [
    "# OVERALL_BAD_RATE_TABLE.to_csv(\"/home/shamim/shamim_tvs/Feb_BadRateTable_4_Months_Data.csv\")"
   ]
  },
  {
   "cell_type": "code",
   "execution_count": null,
   "metadata": {},
   "outputs": [],
   "source": [
    "#########  Bad in first 4 months\n",
    "# table = pd.pivot_table(OVERALL_BAD_RATE_TABLE, values=['30+DPD_F4M', '60+DPD_F4M','BOUNCE_F4M'], index=['ORIGINATION_DATE'],aggfunc=np.sum)\n",
    "# table1 = pd.pivot_table(OVERALL_BAD_RATE_TABLE, index=['ORIGINATION_DATE'], values='PROSPECTID',aggfunc=len)\n",
    "# Bad_Rate_Table1 = pd.concat([table1,table],axis=1)\n",
    "# Bad_Rate_Table1 = Bad_Rate_Table1.reset_index()\n",
    "# del Bad_Rate_Table1['PROSPECTID']"
   ]
  },
  {
   "cell_type": "code",
   "execution_count": null,
   "metadata": {},
   "outputs": [],
   "source": [
    "# Bad_Rate_Table1.head(5)"
   ]
  },
  {
   "cell_type": "code",
   "execution_count": null,
   "metadata": {},
   "outputs": [],
   "source": [
    "# Bad_Rate_Table = pd.merge(Bad_Rate_Table, Bad_Rate_Table1, on=['ORIGINATION_DATE'])"
   ]
  },
  {
   "cell_type": "code",
   "execution_count": null,
   "metadata": {},
   "outputs": [],
   "source": [
    "# Bad_Rate_Table"
   ]
  },
  {
   "cell_type": "code",
   "execution_count": null,
   "metadata": {},
   "outputs": [],
   "source": [
    "# Bad_Rate_Table.to_csv(\"/home/salam/OOTData/Summarised_Bad_Rate_OOT_11052019.csv\")"
   ]
  },
  {
   "cell_type": "code",
   "execution_count": null,
   "metadata": {},
   "outputs": [],
   "source": [
    "# Bad_Rate_Table = Bad_Rate_Table.rename(columns={'PROSPECTID': 'Unique Applicatios(#)'})\n",
    "# Bad_Rate_Table = Bad_Rate_Table.rename(columns={'30+DPD': '30+DPD(#)'})\n",
    "# Bad_Rate_Table = Bad_Rate_Table.rename(columns={'60+DPD': '60+DPD(#)'})\n",
    "# Bad_Rate_Table = Bad_Rate_Table.rename(columns={'BOUNCE': 'BOUNCE(#)'})\n",
    "# #Bad_Rate_Table = Bad_Rate_Table.rename(columns={'BOU_STATUS+': 'BOU_STATUS+(#)'})\n",
    "# Bad_Rate_Table['30+DPD(%)']  = Bad_Rate_Table['30+DPD(#)']/Bad_Rate_Table['Unique Applicatios(#)']\n",
    "# Bad_Rate_Table['60+DPD(%)']  = Bad_Rate_Table['60+DPD(#)']/Bad_Rate_Table['Unique Applicatios(#)']\n",
    "# Bad_Rate_Table['BOUNCE(%)'] = Bad_Rate_Table['BOUNCE(#)']/Bad_Rate_Table['Unique Applicatios(#)']\n",
    "# #Bad_Rate_Table['BOU_STATUS+(%)'] = Bad_Rate_Table['BOU_STATUS+(#)']/Bad_Rate_Table['Unique Applicatios(#)']"
   ]
  },
  {
   "cell_type": "code",
   "execution_count": null,
   "metadata": {},
   "outputs": [],
   "source": [
    "# print(Bad_Rate_Table)"
   ]
  },
  {
   "cell_type": "code",
   "execution_count": null,
   "metadata": {},
   "outputs": [],
   "source": [
    "# Bad_Rate_Table.to_csv(\"Summarised_Bad_Rate_OOT_25042019.csv\")"
   ]
  },
  {
   "cell_type": "code",
   "execution_count": null,
   "metadata": {},
   "outputs": [],
   "source": []
  },
  {
   "cell_type": "code",
   "execution_count": null,
   "metadata": {},
   "outputs": [],
   "source": []
  },
  {
   "cell_type": "code",
   "execution_count": null,
   "metadata": {},
   "outputs": [],
   "source": []
  },
  {
   "cell_type": "code",
   "execution_count": null,
   "metadata": {},
   "outputs": [],
   "source": [
    "######################  Vintage Analysis"
   ]
  },
  {
   "cell_type": "code",
   "execution_count": null,
   "metadata": {},
   "outputs": [],
   "source": [
    "# VINTAGE_DATA_30 = FINAL_DF_DATA_2[FINAL_DF_DATA_2['30+DPD'] == 1]\n",
    "# VINTAGE_DATA_60 = FINAL_DF_DATA_2[FINAL_DF_DATA_2['60+DPD'] == 1]\n",
    "# VINTAGE_DATA_B = FINAL_DF_DATA_2[FINAL_DF_DATA_2['BOUNCE+'] == 1]"
   ]
  },
  {
   "cell_type": "code",
   "execution_count": null,
   "metadata": {},
   "outputs": [],
   "source": [
    "# VINTAGE_DATA_30 = VINTAGE_DATA_30.sort_values(by = ['PROSPECTID','CUTDATE'],ascending = [True,True])\n",
    "# VINTAGE_DATA_30 = VINTAGE_DATA_30.reset_index()\n",
    "# del VINTAGE_DATA_30['index']\n",
    "# VINTAGE_DATA_30 = VINTAGE_DATA_30.drop_duplicates(subset='PROSPECTID', inplace=False)\n",
    "\n",
    "# VINTAGE_DATA_60 = VINTAGE_DATA_60.sort_values(by = ['PROSPECTID','CUTDATE'],ascending = [True,True])\n",
    "# VINTAGE_DATA_60 = VINTAGE_DATA_60.reset_index()\n",
    "# del VINTAGE_DATA_60['index']\n",
    "# VINTAGE_DATA_60 = VINTAGE_DATA_60.drop_duplicates(subset='PROSPECTID', inplace=False)\n",
    "\n",
    "# VINTAGE_DATA_B = VINTAGE_DATA_B.sort_values(by = ['PROSPECTID','CUTDATE'],ascending = [True,True])\n",
    "# VINTAGE_DATA_B = VINTAGE_DATA_B.reset_index()\n",
    "# del VINTAGE_DATA_B['index']\n",
    "# VINTAGE_DATA_B = VINTAGE_DATA_B.drop_duplicates(subset='PROSPECTID', inplace=False)"
   ]
  },
  {
   "cell_type": "code",
   "execution_count": null,
   "metadata": {},
   "outputs": [],
   "source": [
    "# table1 = table1.reset_index()"
   ]
  },
  {
   "cell_type": "code",
   "execution_count": null,
   "metadata": {},
   "outputs": [],
   "source": [
    "########## BOUNCE\n",
    "# table_mob1 = pd.pivot_table(VINTAGE_DATA_B, values=['BOUNCE+'], index=['ORIGINATION_DATE','MOB'],aggfunc=np.sum)\n",
    "# table_mob1 = table_mob1.reset_index()\n",
    "#table_mob1s = pd.DataFrame(table_mob1['BOUNCE+'])"
   ]
  },
  {
   "cell_type": "code",
   "execution_count": null,
   "metadata": {},
   "outputs": [],
   "source": [
    "########## 60+\n",
    "# table_mob2 = pd.pivot_table(VINTAGE_DATA_60, values=['60+DPD'], index=['ORIGINATION_DATE','MOB'],aggfunc=np.sum)\n",
    "# table_mob2 = table_mob2.reset_index()\n",
    "#table_mob2s = pd.DataFrame(table_mob2['60+DPD'])"
   ]
  },
  {
   "cell_type": "code",
   "execution_count": null,
   "metadata": {},
   "outputs": [],
   "source": [
    "########## 30+\n",
    "# table_mob3 = pd.pivot_table(VINTAGE_DATA_30, values=['30+DPD'], index=['ORIGINATION_DATE','MOB'],aggfunc=np.sum)\n",
    "# table_mob3 = table_mob3.reset_index()"
   ]
  },
  {
   "cell_type": "code",
   "execution_count": null,
   "metadata": {},
   "outputs": [],
   "source": [
    "# vintage_Data1 = pd.merge(table_mob1, table_mob2, on=['ORIGINATION_DATE','MOB'])"
   ]
  },
  {
   "cell_type": "code",
   "execution_count": null,
   "metadata": {},
   "outputs": [],
   "source": [
    "# vintage_Data1 = pd.merge(vintage_Data1, table_mob3, on=['ORIGINATION_DATE','MOB'])"
   ]
  },
  {
   "cell_type": "code",
   "execution_count": null,
   "metadata": {},
   "outputs": [],
   "source": [
    "# table2 = table1[['ORIGINATION_DATE','PROSPECTID']]\n",
    "# table2"
   ]
  },
  {
   "cell_type": "code",
   "execution_count": null,
   "metadata": {},
   "outputs": [],
   "source": [
    "# vintage_Data1 = pd.merge(table2, vintage_Data1, on='ORIGINATION_DATE')"
   ]
  },
  {
   "cell_type": "code",
   "execution_count": null,
   "metadata": {},
   "outputs": [],
   "source": []
  },
  {
   "cell_type": "code",
   "execution_count": null,
   "metadata": {},
   "outputs": [],
   "source": [
    "# vintage_Data2 = vintage_Data1[((vintage_Data1.ORIGINATION_DATE == '2018_05') | (vintage_Data1.ORIGINATION_DATE == '2018_06') | (vintage_Data1.ORIGINATION_DATE == '2018_07') | (vintage_Data1.ORIGINATION_DATE == '2018_08') | (vintage_Data1.ORIGINATION_DATE == '2018_09') | (vintage_Data1.ORIGINATION_DATE == '2018_04'))] "
   ]
  },
  {
   "cell_type": "code",
   "execution_count": null,
   "metadata": {},
   "outputs": [],
   "source": [
    "# df1 = vintage_Data2[(vintage_Data2.ORIGINATION_DATE == '2018_05')] \n",
    "# df1['cumsum_30+DPD'] = np.cumsum(df1['30+DPD'])\n",
    "# df1['cumsum_60+DPD'] = np.cumsum(df1['60+DPD'])\n",
    "# df1['cumsum_BOUNCE'] = np.cumsum(df1['BOUNCE+'])"
   ]
  },
  {
   "cell_type": "code",
   "execution_count": null,
   "metadata": {},
   "outputs": [],
   "source": [
    "# df2 = vintage_Data2[(vintage_Data2.ORIGINATION_DATE == '2018_06')] \n",
    "# df2['cumsum_30+DPD'] = np.cumsum(df2['30+DPD'])\n",
    "# df2['cumsum_60+DPD'] = np.cumsum(df2['60+DPD'])\n",
    "# df2['cumsum_BOUNCE'] = np.cumsum(df2['BOUNCE+'])"
   ]
  },
  {
   "cell_type": "code",
   "execution_count": null,
   "metadata": {},
   "outputs": [],
   "source": [
    "# df3 = vintage_Data2[(vintage_Data2.ORIGINATION_DATE == '2018_07')] \n",
    "# df3['cumsum_30+DPD'] = np.cumsum(df3['30+DPD'])\n",
    "# df3['cumsum_60+DPD'] = np.cumsum(df3['60+DPD'])\n",
    "# df3['cumsum_BOUNCE'] = np.cumsum(df3['BOUNCE+'])"
   ]
  },
  {
   "cell_type": "code",
   "execution_count": null,
   "metadata": {},
   "outputs": [],
   "source": [
    "# df4 = vintage_Data2[(vintage_Data2.ORIGINATION_DATE == '2018_08')] \n",
    "# df4['cumsum_30+DPD'] = np.cumsum(df4['30+DPD'])\n",
    "# df4['cumsum_60+DPD'] = np.cumsum(df4['60+DPD'])\n",
    "# df4['cumsum_BOUNCE'] = np.cumsum(df4['BOUNCE+'])"
   ]
  },
  {
   "cell_type": "code",
   "execution_count": null,
   "metadata": {},
   "outputs": [],
   "source": [
    "# df5 = vintage_Data2[(vintage_Data2.ORIGINATION_DATE == '2018_09')] \n",
    "# df5['cumsum_30+DPD'] = np.cumsum(df5['30+DPD'])\n",
    "# df5['cumsum_60+DPD'] = np.cumsum(df5['60+DPD'])\n",
    "# df5['cumsum_BOUNCE'] = np.cumsum(df5['BOUNCE+'])"
   ]
  },
  {
   "cell_type": "code",
   "execution_count": null,
   "metadata": {},
   "outputs": [],
   "source": [
    "# df6 = vintage_Data2[(vintage_Data2.ORIGINATION_DATE == '2018_04')] \n",
    "# df6['cumsum_30+DPD'] = np.cumsum(df6['30+DPD'])\n",
    "# df6['cumsum_60+DPD'] = np.cumsum(df6['60+DPD'])\n",
    "# df6['cumsum_BOUNCE'] = np.cumsum(df6['BOUNCE+'])"
   ]
  },
  {
   "cell_type": "code",
   "execution_count": null,
   "metadata": {},
   "outputs": [],
   "source": [
    "# df1"
   ]
  },
  {
   "cell_type": "code",
   "execution_count": null,
   "metadata": {},
   "outputs": [],
   "source": [
    "# vintage_Data_Final = pd.concat([df1,df2,df3,df4,df5,df6],axis=0)"
   ]
  },
  {
   "cell_type": "code",
   "execution_count": null,
   "metadata": {},
   "outputs": [],
   "source": [
    "# vintage_Data_Final"
   ]
  },
  {
   "cell_type": "code",
   "execution_count": null,
   "metadata": {},
   "outputs": [],
   "source": [
    "# vintage_Data_Final['cumsum_30+DPD(%)'] = vintage_Data_Final['cumsum_30+DPD']/vintage_Data_Final['PROSPECTID']"
   ]
  },
  {
   "cell_type": "code",
   "execution_count": null,
   "metadata": {},
   "outputs": [],
   "source": [
    "# vintage_Data_Final['cumsum_60+DPD(%)'] = vintage_Data_Final['cumsum_60+DPD']/vintage_Data_Final['PROSPECTID']"
   ]
  },
  {
   "cell_type": "code",
   "execution_count": null,
   "metadata": {},
   "outputs": [],
   "source": [
    "# vintage_Data_Final['cumsum_BOUNCE(%)'] = vintage_Data_Final['cumsum_BOUNCE']/vintage_Data_Final['PROSPECTID'] "
   ]
  },
  {
   "cell_type": "code",
   "execution_count": null,
   "metadata": {},
   "outputs": [],
   "source": [
    "# vintage_Data_Final"
   ]
  },
  {
   "cell_type": "code",
   "execution_count": null,
   "metadata": {},
   "outputs": [],
   "source": [
    "# vintage_Data_Final.to_csv('vintage_Data_Final_25042019.csv')"
   ]
  },
  {
   "cell_type": "code",
   "execution_count": null,
   "metadata": {},
   "outputs": [],
   "source": []
  },
  {
   "cell_type": "code",
   "execution_count": null,
   "metadata": {},
   "outputs": [],
   "source": []
  },
  {
   "cell_type": "code",
   "execution_count": null,
   "metadata": {},
   "outputs": [],
   "source": []
  },
  {
   "cell_type": "code",
   "execution_count": null,
   "metadata": {},
   "outputs": [],
   "source": []
  },
  {
   "cell_type": "code",
   "execution_count": null,
   "metadata": {},
   "outputs": [],
   "source": []
  }
 ],
 "metadata": {
  "kernelspec": {
   "display_name": "Python 3",
   "language": "python",
   "name": "python3"
  },
  "language_info": {
   "codemirror_mode": {
    "name": "ipython",
    "version": 3
   },
   "file_extension": ".py",
   "mimetype": "text/x-python",
   "name": "python",
   "nbconvert_exporter": "python",
   "pygments_lexer": "ipython3",
   "version": "3.6.9"
  }
 },
 "nbformat": 4,
 "nbformat_minor": 2
}
